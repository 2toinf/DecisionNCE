{
 "cells": [
  {
   "cell_type": "markdown",
   "metadata": {},
   "source": [
    "# load your DecisionNCE model"
   ]
  },
  {
   "cell_type": "code",
   "execution_count": null,
   "metadata": {},
   "outputs": [],
   "source": [
    "import DecisionNCE\n",
    "model = DecisionNCE.load(\"DecisonNCE-P\")"
   ]
  },
  {
   "cell_type": "code",
   "execution_count": null,
   "metadata": {},
   "outputs": [],
   "source": [
    "import io\n",
    "import os\n",
    "import torchvision.transforms as T\n",
    "client = CephClient()\n",
    "\n",
    "\n",
    "import clip \n",
    "import matplotlib.pyplot as plt\n",
    "from matplotlib.animation import FuncAnimation, PillowWriter\n",
    "import numpy as np\n",
    "import torch \n",
    "import pandas as pd\n",
    "def get_ppt_p_reward(name = \"P01_01\", start_frame = 28888, end_frame = 28932, task_name = \"open cupboard\", **kwargs):\n",
    "    def sim(tensor1, tensor2, metric = 'cos'):\n",
    "        tensor1 = tensor1 / tensor1.norm(dim=-1, keepdim=True)\n",
    "        tensor2 = tensor2 / tensor2.norm(dim=-1, keepdim=True)\n",
    "        d = torch.nn.CosineSimilarity(-1)(tensor1, tensor2)\n",
    "        return d\n",
    "\n",
    "    imgs_tensor = get_images(name=name, start_frame=start_frame, end_frame=end_frame)\n",
    "    with torch.no_grad():\n",
    "        embeddings = ppt_p.encode_images(imgs_tensor.cuda())\n",
    "        goal_embedding_text = ppt_p.encode_text([task_name])[0]\n",
    "\n",
    "    ppt_reward = [] \n",
    "    for t in range(embeddings.shape[0]):\n",
    "        ppt_reward.append(sim(goal_embedding_text, embeddings[t]).detach().cpu().numpy())\n",
    "\n",
    "    ppt_reward = np.array(ppt_reward)\n",
    "    ppt_reward = pd.Series(ppt_reward)\n",
    "\n",
    "    # 应用EMA平滑处理\n",
    "    ppt_reward = ppt_reward.ewm(span=5).mean().to_numpy()\n",
    "    ppt_reward = (ppt_reward - ppt_reward.min()) / (ppt_reward.max() - ppt_reward.min())\n",
    "    return ppt_reward, imgs_tensor\n",
    "\n",
    "\n",
    "def get_ppt_t_reward(name = \"P01_01\", start_frame = 28888, end_frame = 28932, task_name = \"open cupboard\", **kwargs):\n",
    "    def sim(tensor1, tensor2, metric = 'cos'):\n",
    "        tensor1 = tensor1 / tensor1.norm(dim=-1, keepdim=True)\n",
    "        tensor2 = tensor2 / tensor2.norm(dim=-1, keepdim=True)\n",
    "        d = torch.nn.CosineSimilarity(-1)(tensor1, tensor2)\n",
    "        return d\n",
    "\n",
    "    imgs_tensor = get_images(name=name, start_frame=start_frame, end_frame=end_frame)\n",
    "    with torch.no_grad():\n",
    "        embeddings = ppt_t.encode_images(imgs_tensor.cuda())\n",
    "        goal_embedding_text = ppt_t.encode_text([task_name])[0]\n",
    "\n",
    "    ppt_reward = [] \n",
    "    for t in range(embeddings.shape[0]):\n",
    "        ppt_reward.append(sim(goal_embedding_text, embeddings[t]).detach().cpu().numpy())\n",
    "\n",
    "    ppt_reward = np.array(ppt_reward)\n",
    "    ppt_reward = pd.Series(ppt_reward)\n",
    "\n",
    "    #应用EMA平滑处理\n",
    "    ppt_reward = ppt_reward.ewm(span=5).mean().to_numpy()\n",
    "    ppt_reward = (ppt_reward - ppt_reward.min()) / (ppt_reward.max() - ppt_reward.min())\n",
    "    return ppt_reward, imgs_tensor\n",
    "font = {'family' : 'Times New Roman',\n",
    "'weight' : 'normal',\n",
    "'size'   : 20,\n",
    "}\n",
    "\n",
    "legend_font = {'family' : 'Times New Roman',\n",
    "'weight' : 'normal',\n",
    "'size'   : 20,\n",
    "}\n"
   ]
  }
 ],
 "metadata": {
  "kernelspec": {
   "display_name": "base",
   "language": "python",
   "name": "python3"
  },
  "language_info": {
   "codemirror_mode": {
    "name": "ipython",
    "version": 3
   },
   "file_extension": ".py",
   "mimetype": "text/x-python",
   "name": "python",
   "nbconvert_exporter": "python",
   "pygments_lexer": "ipython3",
   "version": "3.8.18"
  }
 },
 "nbformat": 4,
 "nbformat_minor": 2
}
